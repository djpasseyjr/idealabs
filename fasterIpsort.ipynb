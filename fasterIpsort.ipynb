{
 "cells": [
  {
   "cell_type": "code",
   "execution_count": 3,
   "metadata": {},
   "outputs": [],
   "source": [
    "import numpy as np\n",
    "from scipy import sparse\n",
    "import random\n",
    "import matplotlib.pyplot as plt\n",
    "from scipy.sparse import coo_matrix\n",
    "import time\n",
    "from tqdm import tqdm\n",
    "\n",
    "%matplotlib inline"
   ]
  },
  {
   "cell_type": "markdown",
   "metadata": {},
   "source": [
    "# Speeding Up Inner Product Sort\n",
    "\n",
    "Dr. Warnick's algorithm is good, but it can be customized to working on big sparse matrices.\n",
    "\n",
    "Here is his algorithm copied over from matlab. You may notice that he used a heuristic to speed it up. The heuristic worked in his example, but didn't work well when I tried it, so I got rid of it. (This slowed down the algorithm.)"
   ]
  },
  {
   "cell_type": "code",
   "execution_count": 4,
   "metadata": {},
   "outputs": [],
   "source": [
    "def ipsortDraft(A,alpha=.5):\n",
    "    \"\"\" Group similar rows and columns of a matrix together\n",
    "\n",
    "        Parameters\n",
    "        ----------\n",
    "        A: (mxn ndarray) boolian matrix to sort\n",
    "        alpha: (float) parameter in 0 < alpha <1        \n",
    "\n",
    "        Returns\n",
    "        -------\n",
    "        Asort: (mxn ndarray) sorted matrix\n",
    "    \"\"\"\n",
    "    m,n = A.shape\n",
    "    mark = 0 #Current Column \n",
    "    \n",
    "    perCol = np.arange(n) #Variable to store column permutations\n",
    "    perRow = np.arange(m) #Variable to store row permutations\n",
    "    \n",
    "    while mark < n-2:\n",
    "        #The unexplored right side of the matrix\n",
    "        APart = A[:,mark+1:n] \n",
    "        perColPart = perCol[mark+1:n]\n",
    "        \n",
    "        #Find similar columns by using an inner product\n",
    "        score = np.inner(A[:,mark],APart.T) \n",
    "        permuC = np.argsort(score)[::-1]\n",
    "        \n",
    "        #Rearrange A to bring similar columns to the left\n",
    "        A[:,mark+1:n] = APart[:,permuC] \n",
    "        perCol[mark+1:n] = perColPart[permuC]\n",
    "        \n",
    "        #Find the end of the current cluster\n",
    "        fin = np.argmax(np.abs(np.diff(score[permuC]))) \n",
    "        \n",
    "        #The triple quotes below is how Dr. Warnick sorted the rows. \n",
    "        #He did not use an inner product, instead, he took a row sum,\n",
    "        #organizing rows by number of entries in that row.\n",
    "        \"\"\"\n",
    "        permuR = np.argsort(np.sum(APart[:mark,:fin],axis=1))[::-1]\n",
    "        A[:mark,:] = A[permuR,:] #Move rows together\n",
    "        perRow[:mark] = perRow[permuR]\n",
    "        \"\"\"\n",
    "        mark = mark + fin + 2\n",
    "\n",
    "    #I decided to run the inner product sort on the rows by running\n",
    "    #the loop above on the transposed matrix. This sorts both rows \n",
    "    #and columns using an inner product\n",
    "\n",
    "    A = A.T\n",
    "    mark = 0    \n",
    "    while mark < m-2:\n",
    "        #The unexplored right side of the matrix\n",
    "        APart = A[:,mark+1:m] \n",
    "        perColPart = perCol[mark+1:m]\n",
    "        \n",
    "        #Finding similar columns with an inner product\n",
    "        score = np.inner(A[:,mark],APart.T) \n",
    "        permuC = np.argsort(score)[::-1]\n",
    "        \n",
    "        #Rearrange A to bring similar columns to the left\n",
    "        A[:,mark+1:m] = APart[:,permuC] \n",
    "        perCol[mark+1:m] = perColPart[permuC]\n",
    "        \n",
    "        #Find the end of the current cluster\n",
    "        fin = np.argmax(np.abs(np.diff(score[permuC]))) \n",
    "        mark = mark + fin + 2\n",
    "    Asort = A.T\n",
    "\n",
    "    return Asort"
   ]
  },
  {
   "cell_type": "markdown",
   "metadata": {},
   "source": [
    "### Some Useful Functions\n",
    "\n",
    " The functions below generate a matrix with a shuffled block diagonal structure and graph matrix structure.\n",
    " \n",
    " Let's see what this algorithm can do:"
   ]
  },
  {
   "cell_type": "code",
   "execution_count": 5,
   "metadata": {},
   "outputs": [],
   "source": [
    "def shuffledMatrix(N=3):\n",
    "    \"\"\" Creates a N^2 by N^2 matrix with NxN blocks \n",
    "        of ones along the diagonal \"\"\"\n",
    " \n",
    "    M = np.zeros((N**2,N**2))\n",
    "    for i in range(N):\n",
    "        j = N*i\n",
    "        M[j:j+N,j:j+N] = np.ones((N,N))\n",
    "\n",
    "    \n",
    "    rows = np.arange(N**2)\n",
    "    cols = np.arange(N**2)\n",
    "    np.random.shuffle(rows)\n",
    "    np.random.shuffle(cols)\n",
    "    shuffM = M[:,cols]\n",
    "    shuffM = shuffM[rows,:]\n",
    "    return shuffM\n",
    "\n",
    "def plot_coo_matrix(m):\n",
    "    \"\"\" Plots nonzero entries of sparse array m as black pixels\n",
    "        Credit to:\n",
    "        https://stackoverflow.com/questions/22961541/\n",
    "        python-matplotlib-plot-sparse-matrix-pattern\n",
    "    \"\"\"\n",
    "\n",
    "    if not isinstance(m, coo_matrix):\n",
    "        m = coo_matrix(m)\n",
    "    fig = plt.figure()\n",
    "    ax = fig.add_subplot(111, facecolor='white')\n",
    "    ax.plot(m.col, m.row, marker=',', color='black', lw=0,linestyle=\"\")\n",
    "    ax.set_xlim(0, m.shape[1])\n",
    "    ax.set_ylim(0, m.shape[0])\n",
    "    ax.set_aspect('equal')\n",
    "    for spine in ax.spines.values():\n",
    "        spine.set_visible(False)\n",
    "    ax.invert_yaxis()\n",
    "    ax.set_aspect('equal')\n",
    "    ax.set_xticks([])\n",
    "    ax.set_yticks([])\n",
    "    return ax"
   ]
  },
  {
   "cell_type": "code",
   "execution_count": 18,
   "metadata": {},
   "outputs": [
    {
     "name": "stdout",
     "output_type": "stream",
     "text": [
      "[[1. 1. 0. 0. 0. 1. 0. 0. 0.]\n",
      " [0. 0. 0. 0. 0. 0. 1. 1. 1.]\n",
      " [0. 0. 1. 1. 1. 0. 0. 0. 0.]\n",
      " [1. 1. 0. 0. 0. 1. 0. 0. 0.]\n",
      " [1. 1. 0. 0. 0. 1. 0. 0. 0.]\n",
      " [0. 0. 1. 1. 1. 0. 0. 0. 0.]\n",
      " [0. 0. 0. 0. 0. 0. 1. 1. 1.]\n",
      " [0. 0. 0. 0. 0. 0. 1. 1. 1.]\n",
      " [0. 0. 1. 1. 1. 0. 0. 0. 0.]]\n"
     ]
    }
   ],
   "source": [
    "A = shuffledMatrix()\n",
    "print(A)"
   ]
  },
  {
   "cell_type": "code",
   "execution_count": 19,
   "metadata": {},
   "outputs": [
    {
     "name": "stdout",
     "output_type": "stream",
     "text": [
      "[[1. 1. 1. 0. 0. 0. 0. 0. 0.]\n",
      " [1. 1. 1. 0. 0. 0. 0. 0. 0.]\n",
      " [1. 1. 1. 0. 0. 0. 0. 0. 0.]\n",
      " [0. 0. 0. 0. 0. 0. 1. 1. 1.]\n",
      " [0. 0. 0. 0. 0. 0. 1. 1. 1.]\n",
      " [0. 0. 0. 0. 0. 0. 1. 1. 1.]\n",
      " [0. 0. 0. 1. 1. 1. 0. 0. 0.]\n",
      " [0. 0. 0. 1. 1. 1. 0. 0. 0.]\n",
      " [0. 0. 0. 1. 1. 1. 0. 0. 0.]]\n"
     ]
    }
   ],
   "source": [
    "print(ipsortDraft(A))"
   ]
  },
  {
   "cell_type": "markdown",
   "metadata": {},
   "source": [
    "Notice that the block structure is revealed by ipsortDraft( ). What about bigger matrices?"
   ]
  },
  {
   "cell_type": "code",
   "execution_count": 20,
   "metadata": {},
   "outputs": [
    {
     "data": {
      "image/png": "[encoded data removed]",
      "text/plain": [
       "<matplotlib.figure.Figure at 0x7fd37202f410>"
      ]
     },
     "metadata": {},
     "output_type": "display_data"
    }
   ],
   "source": [
    "B = shuffledMatrix(N=25) #This generates a (25)^2 X (25)^2 matrix\n",
    "plot_coo_matrix(B)\n",
    "plt.show()"
   ]
  },
  {
   "cell_type": "code",
   "execution_count": 21,
   "metadata": {},
   "outputs": [
    {
     "data": {
      "image/png": "[encoded data removed]",
      "text/plain": [
       "<matplotlib.figure.Figure at 0x7fd36e62bf90>"
      ]
     },
     "metadata": {},
     "output_type": "display_data"
    }
   ],
   "source": [
    "Bsort = ipsortDraft(B)\n",
    "plot_coo_matrix(Bsort)\n",
    "plt.show()"
   ]
  },
  {
   "cell_type": "markdown",
   "metadata": {},
   "source": [
    "Sorted! All of the blocks are grouped together. It's amazing! Now for the issues:"
   ]
  },
  {
   "cell_type": "code",
   "execution_count": 22,
   "metadata": {},
   "outputs": [],
   "source": [
    "B = shuffledMatrix('N=1000') #N=1000 is too big to even load.\n",
    "#I put it in a string so you don't run it and kill the kernel"
   ]
  },
  {
   "cell_type": "markdown",
   "metadata": {},
   "source": [
    "We will time ipsortDraft to get an idea of how fast it is."
   ]
  },
  {
   "cell_type": "code",
   "execution_count": 85,
   "metadata": {},
   "outputs": [
    {
     "data": {
      "image/png": "[encoded data removed]",
      "text/plain": [
       "<matplotlib.figure.Figure at 0x7f28b66c9ed0>"
      ]
     },
     "metadata": {},
     "output_type": "display_data"
    }
   ],
   "source": [
    "def timeIpsortDraft(M):\n",
    "    t0 = time.time()        \n",
    "    m = ipsortDraft(M)\n",
    "    t1 = time.time()\n",
    "    return t1-t0\n",
    "\n",
    "times = []\n",
    "N=10*(np.arange(9)+1)\n",
    "\n",
    "for i in N:\n",
    "    M = shuffledMatrix(i)\n",
    "    t = timeIpsortDraft(M)\n",
    "    times.append(t)\n",
    "    \n",
    "plt.plot(N*N,times)\n",
    "plt.title(\"Speed of ipsortDraft in seconds\")\n",
    "plt.ylabel(\"Speed In Seconds\")\n",
    "plt.xlabel(\"N: where the input to ipsort is and NxN matrix\")\n",
    "plt.show()"
   ]
  },
  {
   "cell_type": "markdown",
   "metadata": {},
   "source": [
    "Now we'll try to speed it up. Let's generate a large sparse matrix."
   ]
  },
  {
   "cell_type": "code",
   "execution_count": 6,
   "metadata": {},
   "outputs": [],
   "source": [
    "def shuffSparseArray(M=100,N=100):\n",
    "\n",
    "    A = sparse.dok_matrix((M**2,N**2))\n",
    "    secureRandom = random.SystemRandom()\n",
    "    unusedCol = list(np.arange(M**2)) #List of empty columns\n",
    "   \n",
    "    while len(unusedCol)!=0:\n",
    "\n",
    "        #Form a column with three 1s placed randomly at entryInd\n",
    "        entryInd = np.random.randint(M**2,size=int(M/3))\n",
    "        \n",
    "        #Choose R random places to put this col \n",
    "        R = np.random.randint(N/2,high=N)\n",
    "        if len(unusedCol) < N: \n",
    "            R = len(unusedCol)\n",
    "    \n",
    "        for i in range(R):\n",
    "            col = secureRandom.choice(unusedCol)\n",
    "            unusedCol.remove(col)\n",
    "            for j in range(len(entryInd)):\n",
    "                A[entryInd[j],col] = 1\n",
    "\n",
    "    return A        "
   ]
  },
  {
   "cell_type": "code",
   "execution_count": 15,
   "metadata": {},
   "outputs": [
    {
     "data": {
      "text/plain": [
       "<matplotlib.axes._subplots.AxesSubplot at 0x7f28ee839890>"
      ]
     },
     "execution_count": 15,
     "metadata": {},
     "output_type": "execute_result"
    },
    {
     "data": {
      "image/png": "[encoded data removed]",
      "text/plain": [
       "<matplotlib.figure.Figure at 0x7f28ee839290>"
      ]
     },
     "metadata": {},
     "output_type": "display_data"
    }
   ],
   "source": [
    "Big = shuffSparseArray'(N=500,M=500)' #This takes about 20 minutes to run. Remove the quotes to run it\n",
    "\n",
    "plot_coo_matrix(Big)"
   ]
  },
  {
   "cell_type": "code",
   "execution_count": 16,
   "metadata": {},
   "outputs": [
    {
     "name": "stdout",
     "output_type": "stream",
     "text": [
      "The matrix, Big, takes up 1.610613032 Gigabytes\n"
     ]
    }
   ],
   "source": [
    "import sys\n",
    "sizeBig = sys.getsizeof(Big)/1e9\n",
    "print('The matrix, Big, takes up {} Gigabytes'.format(sizeBig))"
   ]
  },
  {
   "cell_type": "markdown",
   "metadata": {},
   "source": [
    "The above matrix is similar in size to the medical data. It has 62 Billion cells and 40 Million non zero entries. Eventually, we will run our sorting algorithm on it.\n",
    "\n",
    "We will time column permutations to see which format of sparse matrixes is the fastest."
   ]
  },
  {
   "cell_type": "code",
   "execution_count": 17,
   "metadata": {},
   "outputs": [
    {
     "name": "stdout",
     "output_type": "stream",
     "text": [
      "Dictionary of Keys matrix column permutation time:    0.607156991959\n",
      "Compressed Sparse Row matrix column permutation time: 0.391940116882\n",
      "Compressed Sparse Col matrix column permutation time: 0.0248370170593\n"
     ]
    }
   ],
   "source": [
    "permu = np.random.randint(500**2)\n",
    "\n",
    "t0 = time.time()\n",
    "B = Big[:,permu]\n",
    "t1 = time.time()\n",
    "\n",
    "print(\"Dictionary of Keys matrix column permutation time:    {}\".format(t1-t0))\n",
    "\n",
    "Big = Big.tocsr()\n",
    "t0 = time.time()\n",
    "B = Big[:,permu]\n",
    "t1 = time.time()\n",
    "\n",
    "print(\"Compressed Sparse Row matrix column permutation time: {}\".format(t1-t0))\n",
    "\n",
    "Big = Big.tocsc()\n",
    "t0 = time.time()\n",
    "B = Big[:,permu]\n",
    "t1 = time.time()\n",
    "\n",
    "print(\"Compressed Sparse Col matrix column permutation time: {}\".format(t1-t0))"
   ]
  },
  {
   "cell_type": "markdown",
   "metadata": {},
   "source": [
    "CSC is the fastest. We will find the fastest method for computing the dot product next."
   ]
  },
  {
   "cell_type": "code",
   "execution_count": 18,
   "metadata": {},
   "outputs": [
    {
     "name": "stdout",
     "output_type": "stream",
     "text": [
      "\tCSR\n",
      "--------------------\n",
      "Scipy .dot( ) time: \t1.22076106071\n",
      "Diagonal array time: \t1.65480899811\n",
      "Numpy dot funct time: \t1.13857293129\n",
      "\tCSC\n",
      "--------------------\n",
      "Scipy .dot( ) time: \t1.10356712341\n",
      "Diagonal array time: \t1.15409684181\n",
      "Numpy dot funct time: \t1.10032320023\n"
     ]
    }
   ],
   "source": [
    "#Time dotting the first column of Big with the rest of Big\n",
    "\n",
    "print(\"\\tCSR\\n\"+\"----\"*5)\n",
    "Big.tocsr()\n",
    "\n",
    "t0 = time.time()\n",
    "B = Big[:,0].transpose().dot(Big[:,1:])\n",
    "t1 = time.time()\n",
    "\n",
    "print(\"Scipy .dot( ) time: \\t{}\".format(t1-t0))\n",
    "\n",
    "t0 = time.time()\n",
    "B = (sparse.diags(Big[:,0].toarray().ravel())*Big[:,1:]).sum(axis=0)\n",
    "t1 = time.time()\n",
    "\n",
    "print(\"Diagonal array time: \\t{}\".format(t1-t0))\n",
    "\n",
    "t0 = time.time()\n",
    "B = np.dot(Big[:,0].transpose(),Big[:,1:])\n",
    "t1 = time.time()\n",
    "\n",
    "print(\"Numpy dot funct time: \\t{}\".format(t1-t0))\n",
    "\n",
    "print(\"\\tCSC\\n\"+\"----\"*5)\n",
    "Big.tocsc()\n",
    "\n",
    "t0 = time.time()\n",
    "B = Big[:,0].transpose().dot(Big[:,1:])\n",
    "t1 = time.time()\n",
    "\n",
    "print(\"Scipy .dot( ) time: \\t{}\".format(t1-t0))\n",
    "\n",
    "t0 = time.time()\n",
    "B = (sparse.diags(Big[:,0].toarray().ravel())*Big[:,1:]).sum(axis=0)\n",
    "t1 = time.time()\n",
    "\n",
    "print(\"Diagonal array time: \\t{}\".format(t1-t0))\n",
    "\n",
    "t0 = time.time()\n",
    "B = np.dot(Big[:,0].transpose(),Big[:,1:])\n",
    "t1 = time.time()\n",
    "\n",
    "print(\"Numpy dot funct time: \\t{}\".format(t1-t0))\n"
   ]
  },
  {
   "cell_type": "markdown",
   "metadata": {},
   "source": [
    "Scipy and numpy are about the same. We'll use scipy because it takes sligtly less characters to write. We'll use the csc format so we don't have to convert anything.\n",
    "\n",
    "Next, we will look at sorting algorithms:"
   ]
  },
  {
   "cell_type": "code",
   "execution_count": 27,
   "metadata": {},
   "outputs": [
    {
     "name": "stdout",
     "output_type": "stream",
     "text": [
      "Data: [  1.   1.   1. ... 166. 166. 166.]\n",
      "Indices: [248688 246862 246490 ...   4037   3693   1735]\n"
     ]
    }
   ],
   "source": [
    "print(\"Data: {}\".format(B.data))\n",
    "print(\"Indices: {}\".format(B.indices))"
   ]
  },
  {
   "cell_type": "markdown",
   "metadata": {},
   "source": [
    "It looks like after computing a dot product, the data and indice attributes are pre-sorted"
   ]
  },
  {
   "cell_type": "code",
   "execution_count": 48,
   "metadata": {},
   "outputs": [
    {
     "name": "stdout",
     "output_type": "stream",
     "text": [
      "argsort time: 0.00927209854126\n",
      "Indices time: 0.162091970444\n"
     ]
    }
   ],
   "source": [
    "M,N = B.shape\n",
    "#We will time sorting the solution to the previous cell\n",
    "\n",
    "t0 = time.time()\n",
    "sortB = np.argsort(B.toarray().ravel())[::-1]\n",
    "index = list(range(1)+list(sortB))\n",
    "t1 = time.time()\n",
    "\n",
    "print(\"argsort time: {}\".format(t1-t0))\n",
    "\n",
    "t0 = time.time()\n",
    "#sortB = B.indices[::-1]\n",
    "s = set(B.indices)\n",
    "index = list(iters.chain(range(1),B.indices+1,iters.ifilter(lambda x: x not in s,range(len(B.indices)+1,250000))))\n",
    "t1 = time.time()\n",
    "\n",
    "print(\"Indices time: {}\".format(t1-t0))\n"
   ]
  },
  {
   "cell_type": "code",
   "execution_count": 44,
   "metadata": {},
   "outputs": [
    {
     "data": {
      "text/plain": [
       "249999"
      ]
     },
     "execution_count": 44,
     "metadata": {},
     "output_type": "execute_result"
    }
   ],
   "source": [
    "len(sortB)\n",
    "\n"
   ]
  },
  {
   "cell_type": "code",
   "execution_count": 22,
   "metadata": {},
   "outputs": [
    {
     "name": "stdout",
     "output_type": "stream",
     "text": [
      "CSC Conversion time in seconds: 1.06973695755\n"
     ]
    }
   ],
   "source": [
    "t0 = time.time()\n",
    "Big = Big.tocsc()\n",
    "t1 = time.time()\n",
    "print(\"CSC Conversion time in seconds: {}\".format(t1-t0))"
   ]
  },
  {
   "cell_type": "markdown",
   "metadata": {},
   "source": [
    "After gathering all this information we are ready to write the algorithm."
   ]
  },
  {
   "cell_type": "code",
   "execution_count": 7,
   "metadata": {},
   "outputs": [],
   "source": [
    "def ipsort(A, sortRow=True,returnPermu=False,verbose=False):\n",
    "    \"\"\" Group similar rows and columns of a matrix together\n",
    "\n",
    "        Parameters\n",
    "        ----------\n",
    "        A: (mxn ndarray) sparse matrix of zeros and ones to sort\n",
    "        sortRow: (bool) if sortRow=false, the algorithm sorts columns ONLY\n",
    "        returnPermu: (bool) if returnPermu=True, the function returns the \n",
    "                   permutation vectors and grouping vectors\n",
    "        verbose: (bool) if verbose=True, the function prints it's progress \n",
    "                        through the matrix\n",
    "        Returns\n",
    "        -------\n",
    "        Asorted: (mxn ndarray) permuted A matrix\n",
    "        perCol (1xn ndarray) column permutations\n",
    "        perRow = (1xm ndarray) row permutations\n",
    "        rowGroups = (list) stores the indices that begin each row grouping\n",
    "        colGroups = (list) stores the indices that begin each row grouping\n",
    "        \n",
    "    \"\"\"\n",
    "    #Variables to keep track of progress\n",
    "    M,N = A.shape\n",
    "    mark = 0\n",
    "    progress = 0\n",
    "    printStepSize = N//20\n",
    "    \n",
    "    #Variables to store row and column permutations\n",
    "    perCol = np.arange(N) \n",
    "    perRow = np.arange(M) \n",
    "    \n",
    "    #Variables to store the beginnings of each grouping\n",
    "    rowGroups = [0] \n",
    "    colGroups = [0]\n",
    "    \n",
    "    A = A.tocsc()\n",
    "    while mark < N-2:\n",
    "        #Compute column similarity with a dot product\n",
    "        scores = A[:,mark].transpose().dot(A[:,mark+1:])\n",
    "        \n",
    "        #Move the most similar columns to the front\n",
    "        sort = np.argsort(scores.toarray().ravel())[::-1] \n",
    "        permu = list(range(mark+1)+list(sort+mark+1))\n",
    "        A = A[:,permu]\n",
    "        perCol = perCol[permu]\n",
    "        \n",
    "        #Find the end of the grouping\n",
    "        fin = np.argmax(np.abs(np.diff(scores.toarray()[:,sort])))\n",
    "        mark += fin + 2\n",
    "        colGroups.append(mark)\n",
    "        \n",
    "        if verbose:\n",
    "            if mark - progress > printStepSize:\n",
    "                steps = progress//printStepSize\n",
    "                print(\"Column progress: \\t{}\".format('%'*steps) + '-'*(20-steps-2) +'|')\n",
    "                progress += printStepSize\n",
    "            \n",
    "        \n",
    "    #Repeat the above algorithm on the transposed matrix\n",
    "    if sortRow:\n",
    "        mark = 0\n",
    "        progress = 0\n",
    "        printStepSize = M//20\n",
    "        \n",
    "        A = A.transpose()#Transpose and run the algorithm above\n",
    "        \n",
    "        while mark < N-2:\n",
    "            #Compute column similarity with a dot product\n",
    "            scores = A[:,mark].transpose().dot(A[:,mark+1:])\n",
    "\n",
    "            #Move the most similar columns to the front\n",
    "            sort = np.argsort(scores.toarray().ravel())[::-1] \n",
    "            permu = list(range(mark+1)+list(sort+mark+1))\n",
    "            A = A[:,permu]\n",
    "            perRow = perRow[permu]\n",
    "\n",
    "            #Find the end of the grouping\n",
    "            fin = np.argmax(np.abs(np.diff(scores.toarray()[:,sort])))\n",
    "            mark += fin + 2\n",
    "            rowGroups.append(mark)\n",
    "            \n",
    "            if verbose:\n",
    "                if mark - progress > printStepSize:\n",
    "                    steps = progress//printStepSize\n",
    "                    print(\"Row progress: \\t\\t{}\".format('%'*steps) + '-'*(20-steps-2) +'|')\n",
    "                    progress += printStepSize\n",
    "                    \n",
    "        A = A.transpose() #Transpose it back\n",
    "\n",
    "    if returnPermu:\n",
    "        return A,perCol,perRow,colGroups,rowGroups\n",
    "    return A"
   ]
  },
  {
   "cell_type": "markdown",
   "metadata": {},
   "source": [
    "Check if it works:"
   ]
  },
  {
   "cell_type": "code",
   "execution_count": 83,
   "metadata": {},
   "outputs": [
    {
     "data": {
      "text/plain": [
       "<matplotlib.axes._subplots.AxesSubplot at 0x7f28b75d5290>"
      ]
     },
     "execution_count": 83,
     "metadata": {},
     "output_type": "execute_result"
    },
    {
     "data": {
      "image/png": "[encoded data removed]",
      "text/plain": [
       "<matplotlib.figure.Figure at 0x7f28a7c62b10>"
      ]
     },
     "metadata": {},
     "output_type": "display_data"
    }
   ],
   "source": [
    "T = shuffledMatrix(N=25) #This generates a (25)^2 X (25)^2 matrix\n",
    "plot_coo_matrix(T)"
   ]
  },
  {
   "cell_type": "code",
   "execution_count": 107,
   "metadata": {},
   "outputs": [
    {
     "data": {
      "text/plain": [
       "<matplotlib.axes._subplots.AxesSubplot at 0x7f26143e1050>"
      ]
     },
     "execution_count": 107,
     "metadata": {},
     "output_type": "execute_result"
    },
    {
     "data": {
      "image/png": "[encoded data removed]",
      "text/plain": [
       "<matplotlib.figure.Figure at 0x7f2671709a90>"
      ]
     },
     "metadata": {},
     "output_type": "display_data"
    }
   ],
   "source": [
    "Tsort = ipsort(sparse.csc_matrix(T),sortRows=True)\n",
    "plot_coo_matrix(Tsort)"
   ]
  },
  {
   "cell_type": "markdown",
   "metadata": {},
   "source": [
    "We will compare it to our old algorithm"
   ]
  },
  {
   "cell_type": "code",
   "execution_count": 94,
   "metadata": {},
   "outputs": [
    {
     "data": {
      "image/png": "[encoded data removed]",
      "text/plain": [
       "<matplotlib.figure.Figure at 0x7f28ee8d2b50>"
      ]
     },
     "metadata": {},
     "output_type": "display_data"
    }
   ],
   "source": [
    "def timeIpsort(M):\n",
    "    t0 = time.time()        \n",
    "    m = ipsort(M)\n",
    "    t1 = time.time()\n",
    "    return t1-t0\n",
    "\n",
    "draftTimes = []\n",
    "newTimes = []\n",
    "N=10*(np.arange(10)+1)\n",
    "\n",
    "for i in N:\n",
    "    M = shuffledMatrix(i)\n",
    "    t = timeIpsortDraft(M)\n",
    "    draftTimes.append(t)\n",
    "    \n",
    "    M = sparse.csc_matrix(M)\n",
    "    t = timeIpsort(M)\n",
    "    newTimes.append(t)\n",
    "    \n",
    "plt.plot(N*N,draftTimes)\n",
    "plt.legend(\"Old Funct\")\n",
    "plt.plot(N*N,newTimes)\n",
    "plt.legend(\"New Funct\")\n",
    "plt.title(\"Speed of ipsortDraft in seconds\")\n",
    "plt.ylabel(\"Speed In Seconds\")\n",
    "plt.xlabel(\"N: where the input to ipsort is and NxN matrix\")\n",
    "plt.show()"
   ]
  },
  {
   "cell_type": "markdown",
   "metadata": {},
   "source": [
    "Clearly it is a lot faster. We will run it on the big matrix"
   ]
  },
  {
   "cell_type": "code",
   "execution_count": 8,
   "metadata": {},
   "outputs": [
    {
     "name": "stdout",
     "output_type": "stream",
     "text": [
      "Column progress: \t------------------|\n",
      "Column progress: \t%-----------------|\n",
      "Column progress: \t%%----------------|\n",
      "Column progress: \t%%%---------------|\n",
      "Column progress: \t%%%%--------------|\n",
      "Column progress: \t%%%%%-------------|\n",
      "Column progress: \t%%%%%%------------|\n",
      "Column progress: \t%%%%%%%-----------|\n",
      "Column progress: \t%%%%%%%%----------|\n",
      "Column progress: \t%%%%%%%%%---------|\n",
      "Column progress: \t%%%%%%%%%%--------|\n",
      "Column progress: \t%%%%%%%%%%%-------|\n",
      "Column progress: \t%%%%%%%%%%%%------|\n",
      "Column progress: \t%%%%%%%%%%%%%-----|\n",
      "Column progress: \t%%%%%%%%%%%%%%----|\n",
      "Column progress: \t%%%%%%%%%%%%%%%---|\n",
      "Column progress: \t%%%%%%%%%%%%%%%%--|\n",
      "Column progress: \t%%%%%%%%%%%%%%%%%-|\n",
      "Column progress: \t%%%%%%%%%%%%%%%%%%|\n",
      "Row progress: \t\t------------------|\n",
      "Row progress: \t\t%-----------------|\n",
      "Row progress: \t\t%%----------------|\n",
      "Row progress: \t\t%%%---------------|\n",
      "Row progress: \t\t%%%%--------------|\n",
      "Row progress: \t\t%%%%%-------------|\n",
      "Row progress: \t\t%%%%%%------------|\n",
      "Row progress: \t\t%%%%%%%-----------|\n",
      "Row progress: \t\t%%%%%%%%----------|\n",
      "Row progress: \t\t%%%%%%%%%---------|\n",
      "Row progress: \t\t%%%%%%%%%%--------|\n",
      "Row progress: \t\t%%%%%%%%%%%-------|\n",
      "Row progress: \t\t%%%%%%%%%%%%------|\n",
      "Row progress: \t\t%%%%%%%%%%%%%-----|\n",
      "Row progress: \t\t%%%%%%%%%%%%%%----|\n",
      "Row progress: \t\t%%%%%%%%%%%%%%%---|\n",
      "Row progress: \t\t%%%%%%%%%%%%%%%%--|\n",
      "Row progress: \t\t%%%%%%%%%%%%%%%%%-|\n",
      "Row progress: \t\t%%%%%%%%%%%%%%%%%%|\n",
      "Sorting completed in 14.6886327922 hours\n"
     ]
    },
    {
     "data": {
      "text/plain": [
       "<matplotlib.axes._subplots.AxesSubplot at 0x7fd38b695f10>"
      ]
     },
     "execution_count": 7,
     "metadata": {},
     "output_type": "execute_result"
    },
    {
     "data": {
      "image/png": "[encoded data removed]",
      "text/plain": [
       "<matplotlib.figure.Figure at 0x7f28ed5f45d0>"
      ]
     },
     "metadata": {},
     "output_type": "display_data"
    }
   ],
   "source": [
    "t0 = time.time()\n",
    "BigSort = ipsort(Big,verbose=True)\n",
    "t1 = time.time()\n",
    "print(\"Sorting completed in {} hours\".format((t1-t0)/60**2))\n",
    "plot_coo_matrix(BigSort)"
   ]
  },
  {
   "cell_type": "markdown",
   "metadata": {},
   "source": [
    "So our algorithm works on the big matrix! It takes a long time, but we can see that all of the similar columns moved to the left. \n",
    "\n",
    "The graph looks a little strange so we may want to check that it works on a smaller sparse matrix:"
   ]
  },
  {
   "cell_type": "code",
   "execution_count": 9,
   "metadata": {},
   "outputs": [
    {
     "data": {
      "text/plain": [
       "<matplotlib.axes._subplots.AxesSubplot at 0x7f4682f71f10>"
      ]
     },
     "execution_count": 9,
     "metadata": {},
     "output_type": "execute_result"
    },
    {
     "data": {
      "image/png": "[encoded data removed]",
      "text/plain": [
       "<matplotlib.figure.Figure at 0x7f46a0cbe5d0>"
      ]
     },
     "metadata": {},
     "output_type": "display_data"
    }
   ],
   "source": [
    "A = shuffSparseArray()\n",
    "plot_coo_matrix(ipsort(ipsort(A)))"
   ]
  },
  {
   "cell_type": "markdown",
   "metadata": {},
   "source": [
    "The plot above looks correct. The reason it didn't sort the data into squares is because the matrix wasn't generated to have squares of data in it. The function creating A generates a more random structure, thus generating a more randomized grouping when sorted. \n",
    "\n",
    "With all of our preliminary testing done, we are ready to sort the medical data."
   ]
  }
 ],
 "metadata": {
  "kernelspec": {
   "display_name": "Python 3",
   "language": "python",
   "name": "python3"
  },
  "language_info": {
   "codemirror_mode": {
    "name": "ipython",
    "version": 2
   },
   "file_extension": ".py",
   "mimetype": "text/x-python",
   "name": "python",
   "nbconvert_exporter": "python",
   "pygments_lexer": "ipython2",
   "version": "2.7.14"
  }
 },
 "nbformat": 4,
 "nbformat_minor": 2
}
